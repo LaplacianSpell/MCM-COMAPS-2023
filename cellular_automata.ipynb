{
 "cells": [
  {
   "cell_type": "code",
   "execution_count": null,
   "metadata": {},
   "outputs": [],
   "source": [
    "import numpy as np\n",
    "import matplotlib.pyplot as plt"
   ]
  },
  {
   "cell_type": "code",
   "execution_count": 1,
   "metadata": {},
   "outputs": [
    {
     "ename": "IndentationError",
     "evalue": "expected an indented block (1727858030.py, line 10)",
     "output_type": "error",
     "traceback": [
      "\u001b[0;36m  Cell \u001b[0;32mIn[1], line 10\u001b[0;36m\u001b[0m\n\u001b[0;31m    def climate_precipitation(, P):\u001b[0m\n\u001b[0m    ^\u001b[0m\n\u001b[0;31mIndentationError\u001b[0m\u001b[0;31m:\u001b[0m expected an indented block\n"
     ]
    }
   ],
   "source": [
    "# Grid module\n",
    "\n",
    "class GridSystem(object):\n",
    "    grid_width = 100\n",
    "    grid_length = 100\n",
    "    cells_moisture_content = np.zeros((grid_width, grid_length))\n",
    "    cells_plant_states = np.zeros((grid_width, grid_length))\n",
    "    \n",
    "    def __init__(self, width, length):\n",
    "        self.grid_width = width\n",
    "        self.grid_length = length\n",
    "    \n",
    "    def __str__(self):\n",
    "        plt.imshow(self.cells_moisture_content)\n",
    "        plt.colorbar()\n",
    "        return f\"The {self.grid_width} by {self.grid_length} Grid\"\n",
    "    \n",
    "    def climate_precipitation(self, P):\n",
    "        self.cells_moisture_content += np.clip(\n",
    "            np.ones((self.grid_width, self.grid_length)) * P + \n",
    "            np.random.randn(self.grid_width, self.grid_length),\n",
    "            0)\n",
    "    \n",
    "        \n",
    "        "
   ]
  }
 ],
 "metadata": {
  "kernelspec": {
   "display_name": "myenv",
   "language": "python",
   "name": "python3"
  },
  "language_info": {
   "codemirror_mode": {
    "name": "ipython",
    "version": 3
   },
   "file_extension": ".py",
   "mimetype": "text/x-python",
   "name": "python",
   "nbconvert_exporter": "python",
   "pygments_lexer": "ipython3",
   "version": "3.9.2"
  },
  "orig_nbformat": 4,
  "vscode": {
   "interpreter": {
    "hash": "3168a7982d5b4a4dde284432ab8e0ebfad059f16a241a8535d4a27710a7829fa"
   }
  }
 },
 "nbformat": 4,
 "nbformat_minor": 2
}
